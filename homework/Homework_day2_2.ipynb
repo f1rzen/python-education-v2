{
 "cells": [
  {
   "cell_type": "code",
   "execution_count": null,
   "metadata": {},
   "outputs": [],
   "source": [
    "n = int(input(\"please enter a digit: \"))\n",
    "\n",
    "i = 0\n",
    "\n",
    "while i <= n:  \n",
    "    if n>10:\n",
    "        print(\"ONLY ENTER DIGITS!\")\n",
    "        break\n",
    "        \n",
    "    elif i%2 == 0:\n",
    "        print(i)\n",
    "\n",
    "    i +=1"
   ]
  }
 ],
 "metadata": {
  "kernelspec": {
   "display_name": "Python 3",
   "language": "python",
   "name": "python3"
  },
  "language_info": {
   "codemirror_mode": {
    "name": "ipython",
    "version": 3
   },
   "file_extension": ".py",
   "mimetype": "text/x-python",
   "name": "python",
   "nbconvert_exporter": "python",
   "pygments_lexer": "ipython3",
   "version": "3.8.5"
  }
 },
 "nbformat": 4,
 "nbformat_minor": 4
}
